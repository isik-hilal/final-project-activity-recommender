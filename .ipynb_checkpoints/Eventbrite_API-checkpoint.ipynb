{
 "cells": [
  {
   "cell_type": "markdown",
   "id": "a3ae4b6d",
   "metadata": {},
   "source": [
    "#### Importing the Libraries"
   ]
  },
  {
   "cell_type": "code",
   "execution_count": 9,
   "id": "803904e8",
   "metadata": {},
   "outputs": [],
   "source": [
    "import pandas as pd\n",
    "import json\n",
    "import numpy as np\n",
    "import random\n",
    "import pickle\n",
    "from eventbrite import Eventbrite\n",
    "import eventuser # calling the py file I created with my private token"
   ]
  },
  {
   "cell_type": "code",
   "execution_count": 11,
   "id": "0a01b040",
   "metadata": {},
   "outputs": [],
   "source": [
    "token = eventuser.token\n",
    "eventbrite = Eventbrite(token)\n",
    "user = eventbrite.get_user()\n"
   ]
  },
  {
   "cell_type": "code",
   "execution_count": 12,
   "id": "58b682bd",
   "metadata": {},
   "outputs": [
    {
     "data": {
      "text/plain": [
       "{'emails': [{'email': 'hilal.hisik@gmail.com',\n",
       "   'verified': False,\n",
       "   'primary': True}],\n",
       " 'id': '780790106983',\n",
       " 'name': 'Hilal Işık',\n",
       " 'first_name': 'Hilal',\n",
       " 'last_name': 'Işık',\n",
       " 'is_public': False,\n",
       " 'image_id': None}"
      ]
     },
     "execution_count": 12,
     "metadata": {},
     "output_type": "execute_result"
    }
   ],
   "source": []
  },
  {
   "cell_type": "markdown",
   "id": "0e02a36b",
   "metadata": {},
   "source": [
    "### "
   ]
  }
 ],
 "metadata": {
  "kernelspec": {
   "display_name": "Python 3 (ipykernel)",
   "language": "python",
   "name": "python3"
  },
  "language_info": {
   "codemirror_mode": {
    "name": "ipython",
    "version": 3
   },
   "file_extension": ".py",
   "mimetype": "text/x-python",
   "name": "python",
   "nbconvert_exporter": "python",
   "pygments_lexer": "ipython3",
   "version": "3.9.7"
  }
 },
 "nbformat": 4,
 "nbformat_minor": 5
}
