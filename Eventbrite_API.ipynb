{
 "cells": [
  {
   "cell_type": "markdown",
   "id": "a3ae4b6d",
   "metadata": {},
   "source": [
    "#### Importing the Libraries"
   ]
  },
  {
   "cell_type": "code",
   "execution_count": 102,
   "id": "803904e8",
   "metadata": {},
   "outputs": [],
   "source": [
    "import pandas as pd\n",
    "import json\n",
    "import numpy as np\n",
    "import random\n",
    "import pickle\n",
    "import sys\n",
    "import time\n",
    "import requests\n",
    "from eventbrite import Eventbrite as evt\n",
    "import eventuser # calling the py file I created with my private token"
   ]
  },
  {
   "cell_type": "markdown",
   "id": "28189802",
   "metadata": {},
   "source": [
    "#### User info"
   ]
  },
  {
   "cell_type": "code",
   "execution_count": 103,
   "id": "0a01b040",
   "metadata": {},
   "outputs": [],
   "source": [
    "token = eventuser.token\n",
    "eventbrite = evt(token)\n",
    "user = eventbrite.get_user()"
   ]
  },
  {
   "cell_type": "markdown",
   "id": "233438c3",
   "metadata": {},
   "source": [
    "#### Getting the events"
   ]
  },
  {
   "cell_type": "code",
   "execution_count": 104,
   "id": "d8b0b8fd",
   "metadata": {},
   "outputs": [
    {
     "data": {
      "text/plain": [
       "{'name': {'text': 'Hiring Event for Refugees (and all) in Berlin',\n",
       "  'html': 'Hiring Event for Refugees (and all) in Berlin'},\n",
       " 'description': {'text': 'Tech Jobs Fair - Connecting companies with tech professionals looking to work in Berlin.',\n",
       "  'html': 'Tech Jobs Fair - Connecting companies with tech professionals looking to work in Berlin.'},\n",
       " 'url': 'https://www.eventbrite.com/e/hiring-event-for-refugees-and-all-in-berlin-tickets-323076579747',\n",
       " 'start': {'timezone': 'Europe/Berlin',\n",
       "  'local': '2022-05-24T09:30:00',\n",
       "  'utc': '2022-05-24T07:30:00Z'},\n",
       " 'end': {'timezone': 'Europe/Berlin',\n",
       "  'local': '2022-05-24T15:30:00',\n",
       "  'utc': '2022-05-24T13:30:00Z'},\n",
       " 'organization_id': '244077543139',\n",
       " 'created': '2022-04-19T10:18:13Z',\n",
       " 'changed': '2022-05-10T17:33:31Z',\n",
       " 'published': '2022-04-20T07:01:15Z',\n",
       " 'capacity': None,\n",
       " 'capacity_is_custom': None,\n",
       " 'status': 'live',\n",
       " 'currency': 'EUR',\n",
       " 'listed': True,\n",
       " 'shareable': True,\n",
       " 'online_event': False,\n",
       " 'tx_time_limit': 1200,\n",
       " 'hide_start_date': False,\n",
       " 'hide_end_date': False,\n",
       " 'locale': 'en_US',\n",
       " 'is_locked': False,\n",
       " 'privacy_setting': 'unlocked',\n",
       " 'is_series': False,\n",
       " 'is_series_parent': False,\n",
       " 'inventory_type': 'limited',\n",
       " 'is_reserved_seating': False,\n",
       " 'show_pick_a_seat': False,\n",
       " 'show_seatmap_thumbnail': False,\n",
       " 'show_colors_in_seatmap_thumbnail': False,\n",
       " 'source': 'coyote',\n",
       " 'is_free': True,\n",
       " 'version': None,\n",
       " 'summary': 'Tech Jobs Fair - Connecting companies with tech professionals looking to work in Berlin.',\n",
       " 'facebook_event_id': None,\n",
       " 'logo_id': '277446019',\n",
       " 'organizer_id': '18656300298',\n",
       " 'venue_id': '93323899',\n",
       " 'category_id': '101',\n",
       " 'subcategory_id': '1010',\n",
       " 'format_id': '10',\n",
       " 'id': '323076579747',\n",
       " 'resource_uri': 'https://www.eventbriteapi.com/v3/events/323076579747/',\n",
       " 'is_externally_ticketed': False,\n",
       " 'logo': {'crop_mask': {'top_left': {'x': 0, 'y': 0},\n",
       "   'width': 1600,\n",
       "   'height': 800},\n",
       "  'original': {'url': 'https://img.evbuc.com/https%3A%2F%2Fcdn.evbuc.com%2Fimages%2F277446019%2F451024827200%2F1%2Foriginal.20220503-084644?auto=format%2Ccompress&q=75&sharp=10&s=6a822be851ab5185108e497cec81c39a',\n",
       "   'width': 1600,\n",
       "   'height': 800},\n",
       "  'id': '277446019',\n",
       "  'url': 'https://img.evbuc.com/https%3A%2F%2Fcdn.evbuc.com%2Fimages%2F277446019%2F451024827200%2F1%2Foriginal.20220503-084644?h=200&w=450&auto=format%2Ccompress&q=75&sharp=10&rect=0%2C0%2C1600%2C800&s=e173dfc2457cb7b6ced404202f2fbc04',\n",
       "  'aspect_ratio': '2',\n",
       "  'edge_color': '#bdafa1',\n",
       "  'edge_color_set': True}}"
      ]
     },
     "execution_count": 104,
     "metadata": {},
     "output_type": "execute_result"
    }
   ],
   "source": [
    "event_may = eventbrite.get_event('323076579747')\n",
    "event_may"
   ]
  },
  {
   "cell_type": "code",
   "execution_count": 107,
   "id": "cd526917",
   "metadata": {},
   "outputs": [
    {
     "data": {
      "text/plain": [
       "200"
      ]
     },
     "execution_count": 107,
     "metadata": {},
     "output_type": "execute_result"
    }
   ],
   "source": [
    "r = requests.get('https://www.eventbrite.com/d/germany--berlin/events--this-month/?page=1', auth=('berlin', 'this month'))\n",
    "r.status_code"
   ]
  },
  {
   "cell_type": "code",
   "execution_count": 110,
   "id": "bc6bd418",
   "metadata": {},
   "outputs": [
    {
     "data": {
      "text/plain": [
       "'text/html'"
      ]
     },
     "execution_count": 110,
     "metadata": {},
     "output_type": "execute_result"
    }
   ],
   "source": [
    "r.headers['content-type']"
   ]
  },
  {
   "cell_type": "code",
   "execution_count": 68,
   "id": "946f63ce",
   "metadata": {},
   "outputs": [
    {
     "data": {
      "text/plain": [
       "{'status_code': 404,\n",
       " 'error_description': 'The path you requested does not exist.',\n",
       " 'error': 'NOT_FOUND'}"
      ]
     },
     "execution_count": 68,
     "metadata": {},
     "output_type": "execute_result"
    }
   ],
   "source": [
    "events = eventbrite.get_event('')\n",
    "events"
   ]
  },
  {
   "cell_type": "markdown",
   "id": "46c8cd08",
   "metadata": {},
   "source": [
    "### Alleventsin API try"
   ]
  },
  {
   "cell_type": "code",
   "execution_count": 112,
   "id": "893bf382",
   "metadata": {},
   "outputs": [
    {
     "name": "stdout",
     "output_type": "stream",
     "text": [
      "b'{ \"statusCode\": 401, \"message\": \"Access denied due to invalid subscription key. Make sure to provide a valid key for an active subscription.\" }'\n"
     ]
    }
   ],
   "source": [
    "import http.client, urllib.request, urllib.parse, urllib.error, base64\n",
    "\n",
    "headers = {\n",
    "    # Request headers\n",
    "    'Ocp-Apim-Subscription-Key': '{subscription key}',\n",
    "}\n",
    "\n",
    "params = urllib.parse.urlencode({\n",
    "    # Request parameters\n",
    "    'city': 'New york',\n",
    "    'state': 'NY',\n",
    "    'country': 'United States',\n",
    "    'page': '0',\n",
    "    'sdate': '{dateTime}',\n",
    "    'edate': '{dateTime}',\n",
    "    'category': '{string}',\n",
    "})\n",
    "\n",
    "try:\n",
    "    conn = http.client.HTTPSConnection('api.allevents.in')\n",
    "    conn.request(\"POST\", \"/events/list/?%s\" % params, \"{body}\", headers)\n",
    "    response = conn.getresponse()\n",
    "    data = response.read()\n",
    "    print(data)\n",
    "    conn.close()\n",
    "except Exception as e:\n",
    "    print(\"[Errno {0}] {1}\".format(e.errno, e.strerror))"
   ]
  },
  {
   "cell_type": "code",
   "execution_count": 43,
   "id": "7d24a32d",
   "metadata": {},
   "outputs": [
    {
     "ename": "NameError",
     "evalue": "name 'i' is not defined",
     "output_type": "error",
     "traceback": [
      "\u001b[1;31m---------------------------------------------------------------------------\u001b[0m",
      "\u001b[1;31mNameError\u001b[0m                                 Traceback (most recent call last)",
      "Input \u001b[1;32mIn [43]\u001b[0m, in \u001b[0;36m<cell line: 13>\u001b[1;34m()\u001b[0m\n\u001b[0;32m     11\u001b[0m berlin_events \u001b[38;5;241m=\u001b[39m []   \n\u001b[0;32m     12\u001b[0m     \u001b[38;5;66;03m#for i in range(2, 500):\u001b[39;00m\n\u001b[1;32m---> 13\u001b[0m berlin_events \u001b[38;5;241m=\u001b[39m eventbrite\u001b[38;5;241m.\u001b[39mevent_search({\u001b[38;5;124m'\u001b[39m\u001b[38;5;124mpage\u001b[39m\u001b[38;5;124m'\u001b[39m: \u001b[43mi\u001b[49m})[\u001b[38;5;124m'\u001b[39m\u001b[38;5;124mevents\u001b[39m\u001b[38;5;124m'\u001b[39m]\n\u001b[0;32m     14\u001b[0m berlin_events\n",
      "\u001b[1;31mNameError\u001b[0m: name 'i' is not defined"
     ]
    }
   ],
   "source": []
  },
  {
   "cell_type": "code",
   "execution_count": 27,
   "id": "ea5060ae",
   "metadata": {},
   "outputs": [
    {
     "data": {
      "text/plain": [
       "{'status_code': 404,\n",
       " 'error_description': 'The path you requested does not exist.',\n",
       " 'error': 'NOT_FOUND'}"
      ]
     },
     "execution_count": 27,
     "metadata": {},
     "output_type": "execute_result"
    }
   ],
   "source": []
  },
  {
   "cell_type": "code",
   "execution_count": null,
   "id": "5e0f014b",
   "metadata": {},
   "outputs": [],
   "source": []
  }
 ],
 "metadata": {
  "kernelspec": {
   "display_name": "Python 3 (ipykernel)",
   "language": "python",
   "name": "python3"
  },
  "language_info": {
   "codemirror_mode": {
    "name": "ipython",
    "version": 3
   },
   "file_extension": ".py",
   "mimetype": "text/x-python",
   "name": "python",
   "nbconvert_exporter": "python",
   "pygments_lexer": "ipython3",
   "version": "3.9.7"
  }
 },
 "nbformat": 4,
 "nbformat_minor": 5
}
